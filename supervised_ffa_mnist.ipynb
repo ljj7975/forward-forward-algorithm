{
 "cells": [
  {
   "cell_type": "code",
   "execution_count": 1,
   "id": "a7b098b6",
   "metadata": {},
   "outputs": [],
   "source": [
    "%matplotlib inline"
   ]
  },
  {
   "cell_type": "code",
   "execution_count": 2,
   "id": "fb567e0c",
   "metadata": {},
   "outputs": [
    {
     "name": "stderr",
     "output_type": "stream",
     "text": [
      "/Users/jaejunlee/Documents/research/forward-forward-algorithm/ffa/lib/python3.10/site-packages/tqdm/auto.py:22: TqdmWarning: IProgress not found. Please update jupyter and ipywidgets. See https://ipywidgets.readthedocs.io/en/stable/user_install.html\n",
      "  from .autonotebook import tqdm as notebook_tqdm\n"
     ]
    }
   ],
   "source": [
    "import torch\n",
    "import torchvision\n",
    "import numpy as np\n",
    "import torch.nn as nn\n",
    "from tqdm import tqdm\n",
    "from torchvision.datasets import MNIST\n",
    "from torch.utils.data import DataLoader\n",
    "import matplotlib.pyplot as plt\n",
    "from torchvision.transforms import Compose, ToTensor, Normalize, Lambda"
   ]
  },
  {
   "cell_type": "code",
   "execution_count": 3,
   "id": "ad1af679",
   "metadata": {},
   "outputs": [
    {
     "data": {
      "text/plain": [
       "<torch._C.Generator at 0x10e85ee10>"
      ]
     },
     "execution_count": 3,
     "metadata": {},
     "output_type": "execute_result"
    }
   ],
   "source": [
    "torch.manual_seed(30)"
   ]
  },
  {
   "cell_type": "code",
   "execution_count": 4,
   "id": "38ea6e95",
   "metadata": {},
   "outputs": [],
   "source": [
    "device = 'cpu'\n",
    "if torch.cuda.is_available():\n",
    "    device = 'cuda'"
   ]
  },
  {
   "cell_type": "code",
   "execution_count": 5,
   "id": "543865a4",
   "metadata": {},
   "outputs": [],
   "source": [
    "def tf_flatten(x):\n",
    "    return torch.flatten(x)\n",
    "\n",
    "tf = Compose([\n",
    "        ToTensor(),\n",
    "        Normalize((0.1307,), (0.3081,)),\n",
    "        Lambda(tf_flatten)])\n",
    "\n",
    "train_dataset = MNIST(\n",
    "    \"./data\",\n",
    "    train=True,\n",
    "    download=True,\n",
    "    transform=tf,\n",
    ")\n",
    "\n",
    "test_dataset = MNIST(\n",
    "    \"./data\",\n",
    "    train=False,\n",
    "    download=True,\n",
    "    transform=tf,\n",
    ")\n",
    "\n",
    "# The network processes the whole dataset layer by layer.\n",
    "# Therefore, batch_size needs to be equal to len(dataset).\n",
    "train_dataloader = DataLoader(\n",
    "   train_dataset, \n",
    "   batch_size=len(train_dataset), \n",
    "   shuffle=True)\n",
    "\n",
    "test_dataloader = DataLoader(\n",
    "   test_dataset, \n",
    "   batch_size=len(test_dataset), \n",
    "   shuffle=True)"
   ]
  },
  {
   "cell_type": "code",
   "execution_count": 6,
   "id": "f7282453",
   "metadata": {},
   "outputs": [],
   "source": [
    "image_width, image_height = (28, 28)\n",
    "num_classes = 10"
   ]
  },
  {
   "cell_type": "code",
   "execution_count": 7,
   "id": "9d914eb5",
   "metadata": {},
   "outputs": [],
   "source": [
    "def display_data(batch_x, labels = None, predictions = None):\n",
    "    \"\"\"\n",
    "    Display the first 9 images with labels and predictions.\n",
    "    \"\"\"\n",
    "    fig = plt.figure()\n",
    "    for i in range(9):\n",
    "        x = batch_x[i]\n",
    "        plt.subplot(3,3,i+1)\n",
    "        plt.tight_layout()\n",
    "        plt.imshow(x.reshape((image_width, image_height)), cmap='gray', interpolation='none')\n",
    "        title_msg = \"\"\n",
    "        if labels is not None:\n",
    "            label = labels[i]\n",
    "            title_msg += f\"Label: {label} \"\n",
    "        if predictions is not None:\n",
    "            pred = predictions[i]\n",
    "            title_msg += f\"Pred: {pred}\"\n",
    "        plt.title(title_msg)\n",
    "        plt.xticks([])\n",
    "        plt.yticks([])        \n",
    "    plt.show()"
   ]
  },
  {
   "cell_type": "code",
   "execution_count": 8,
   "id": "1786acce",
   "metadata": {},
   "outputs": [],
   "source": [
    "def overlay_labels_on_data(batch_x, y, num_classes):\n",
    "    \"\"\"\n",
    "    Replace the first num_classes pixels by a one of N representation of the label,\n",
    "    to essily display what the first hidden layer learns (Section 3.3).\n",
    "    \"\"\"\n",
    "    batch_size = batch_x.shape[0]\n",
    "    augmented_x = batch_x.clone()\n",
    "    augmented_x[:, :num_classes] *= 0.0\n",
    "    max_val = batch_x.max()\n",
    "    augmented_x[range(batch_size), y] = max_val\n",
    "    return augmented_x"
   ]
  },
  {
   "cell_type": "code",
   "execution_count": 9,
   "id": "4b4afe71",
   "metadata": {},
   "outputs": [
    {
     "data": {
      "image/png": "[encoded data removed]",
      "text/plain": [
       "<Figure size 640x480 with 9 Axes>"
      ]
     },
     "metadata": {},
     "output_type": "display_data"
    }
   ],
   "source": [
    "x, y = next(iter(test_dataloader))\n",
    "# The following line is added to show how overlay_labels_on_data changes the data.\n",
    "x = overlay_labels_on_data(x, y, num_classes)\n",
    "display_data(x, labels=y)"
   ]
  },
  {
   "cell_type": "code",
   "execution_count": 10,
   "id": "af3f1bb3",
   "metadata": {},
   "outputs": [],
   "source": [
    "class FFLinear(nn.Linear):\n",
    "    def __init__(\n",
    "        self, \n",
    "        in_features, \n",
    "        out_features,\n",
    "        bias=True, \n",
    "        device=None, \n",
    "        dtype=None\n",
    "    ):\n",
    "        super().__init__(in_features, out_features, bias, device, dtype)\n",
    "        \n",
    "        # Nonlinearity (clips negative values).\n",
    "        self.relu = nn.ReLU()\n",
    "        # Threshold for differentiating positive and negative labels.\n",
    "        self.threshold = 2.0\n",
    "        # Rraining parameters.\n",
    "        self.opt = torch.optim.Adam(self.parameters(), lr=0.03)\n",
    "        \n",
    "    def forward(self, x):\n",
    "        \"\"\"\n",
    "        Compute activations\n",
    "        \"\"\"\n",
    "        # To allow the current layer to learn distinctive features from the previous layers,\n",
    "        # the incoming data has to be normalized by the length and consider orientation only (Section 2.1).\n",
    "        # Normalization is applied first so that the layer output directly for prediction.\n",
    "        x_direction = x / (x.norm(2, 1, keepdim=True) + 1e-4)\n",
    "        \n",
    "        return self.relu(\n",
    "            torch.mm(x_direction, self.weight.T) +\n",
    "            self.bias.unsqueeze(0)\n",
    "        )\n",
    "    \n",
    "    def train(self, x_pos, x_neg, num_epcohs):\n",
    "        \"\"\"\n",
    "        Update layer weight; The aim of the learning is to make the goodness be\n",
    "        well above threshold for positive data and \n",
    "        well below threshold for negative data (Section 2).\n",
    "        \"\"\"\n",
    "        for i in tqdm(range(num_epochs)):\n",
    "            g_pos = self.forward(x_pos).pow(2).mean(1)\n",
    "            g_neg = self.forward(x_neg).pow(2).mean(1)\n",
    "            # The following loss pushes pos (neg) samples to values larger (smaller) than the self.threshold.\n",
    "            loss = torch.log(1 + torch.exp(torch.cat([\n",
    "                -g_pos + self.threshold,\n",
    "                g_neg - self.threshold]))).mean()\n",
    "            self.opt.zero_grad()\n",
    "            # The following backward call ONLY compute gradients for the current layer.\n",
    "            loss.backward()\n",
    "            self.opt.step()\n",
    "        # Since forward-forward algorithm trains layer by layer,\n",
    "        # train funtion returns the activations of the current layer after updating its weights.\n",
    "        return self.forward(x_pos).detach(), self.forward(x_neg).detach()"
   ]
  },
  {
   "cell_type": "code",
   "execution_count": 11,
   "id": "152dbddd",
   "metadata": {},
   "outputs": [],
   "source": [
    "class FFNet(nn.Module):\n",
    "    def __init__(self, dims, num_classes):\n",
    "        super().__init__()\n",
    "        self.num_classes = num_classes\n",
    "        self.layers = []\n",
    "        for d in range(len(dims) - 1):\n",
    "            self.layers += [FFLinear(dims[d], dims[d + 1], device=device)]\n",
    "\n",
    "    def predict(self, x, num_layers_to_ignore = 1):\n",
    "        \"\"\"\n",
    "        After training with FF, it is possible to classify a test digit by doing a single forward pass through \n",
    "        the net starting from an input that consists of the test digit (Section 3.3).\n",
    "        \"\"\"\n",
    "        goodness_per_label = []\n",
    "        for label in range(num_classes):\n",
    "            h = overlay_labels_on_data(x, label, self.num_classes)\n",
    "            goodness = []\n",
    "            for layer_idx, layer in enumerate(self.layers):\n",
    "                h = layer(h)\n",
    "                # The hidden activities in all but the first hidden layer are then used \n",
    "                # as the inputs to a softmax that has been learned during training (Section 3.3).\n",
    "                if layer_idx < num_layers_to_ignore:\n",
    "                    continue  \n",
    "                # The length is used to define the goodness for that layer (Section 2.1).\n",
    "                goodness += [h.pow(2).mean(1)]\n",
    "            goodness_per_label += [sum(goodness).unsqueeze(1)]\n",
    "        goodness_per_label = torch.cat(goodness_per_label, 1)\n",
    "        # The label with the highest accumulated goodness is chosen.\n",
    "        return goodness_per_label.argmax(1)\n",
    "\n",
    "    def train(self, x_pos, x_neg, num_epochs):\n",
    "        \"\"\"\n",
    "        Train the network using forward-forward algorithm (layer by layer).\n",
    "        \"\"\"\n",
    "        h_pos, h_neg = x_pos, x_neg\n",
    "        for i, layer in enumerate(self.layers):\n",
    "            print(f'Training layer {i}')\n",
    "            h_pos, h_neg = layer.train(h_pos, h_neg, num_epochs)"
   ]
  },
  {
   "cell_type": "code",
   "execution_count": 12,
   "id": "054222a7",
   "metadata": {},
   "outputs": [
    {
     "name": "stdout",
     "output_type": "stream",
     "text": [
      "Training layer 0\n"
     ]
    },
    {
     "name": "stderr",
     "output_type": "stream",
     "text": [
      "100%|██████████████████████████████████████████████████████████████████████████████| 1000/1000 [14:36<00:00,  1.14it/s]\n"
     ]
    },
    {
     "name": "stdout",
     "output_type": "stream",
     "text": [
      "Training layer 1\n"
     ]
    },
    {
     "name": "stderr",
     "output_type": "stream",
     "text": [
      "100%|██████████████████████████████████████████████████████████████████████████████| 1000/1000 [05:33<00:00,  3.00it/s]\n"
     ]
    },
    {
     "name": "stdout",
     "output_type": "stream",
     "text": [
      "train acc: 0.9122 (error: 0.0878)\n"
     ]
    }
   ],
   "source": [
    "# The original paper achieves 1.36% test errors only with 60 epochs \n",
    "# using a network with 4 hidden layers each containing 2000 ReLUs (Section 3.3).\n",
    "# In this implementation, the network has two layers of 200 units and trained for 1000 epochs\n",
    "net = FFNet([image_width * image_height, 200, 200], num_classes)\n",
    "num_epochs = 1000\n",
    "\n",
    "x_pos_raw, y_pos = next(iter(train_dataloader))\n",
    "x_pos_raw, y_pos = x_pos_raw.to(device), y_pos.to(device)\n",
    "x_pos = overlay_labels_on_data(x_pos_raw, y_pos, num_classes)\n",
    "\n",
    "# Image data and the label need to be misaligned for the negative samples.\n",
    "perm = torch.randperm(len(y_pos))\n",
    "x_neg = overlay_labels_on_data(x_pos_raw, y_pos[perm], num_classes)\n",
    "net.train(x_pos, x_neg, num_epochs)\n",
    "\n",
    "train_acc = net.predict(x_pos).eq(y_pos).float().mean().item()\n",
    "print(f\"train acc: {train_acc:.4f} (error: {1-train_acc:.4f})\")"
   ]
  },
  {
   "cell_type": "code",
   "execution_count": 13,
   "id": "ed03b635",
   "metadata": {},
   "outputs": [
    {
     "name": "stdout",
     "output_type": "stream",
     "text": [
      "test acc: 0.9143 (error: 0.0857)\n"
     ]
    }
   ],
   "source": [
    "x_test, y_test = next(iter(test_dataloader))\n",
    "x_test, y_test = x_test.to(device), y_test.to(device)\n",
    "y_pred = net.predict(x_test)\n",
    "test_acc = y_pred.eq(y_test).float().mean().item()\n",
    "print(f\"test acc: {test_acc:.4f} (error: {1-test_acc:.4f})\")"
   ]
  },
  {
   "cell_type": "code",
   "execution_count": null,
   "id": "4ea113c5",
   "metadata": {},
   "outputs": [],
   "source": [
    "display_data(x_test, y_test, y_pred)"
   ]
  }
 ],
 "metadata": {
  "kernelspec": {
   "display_name": "Python 3 (ipykernel)",
   "language": "python",
   "name": "python3"
  },
  "language_info": {
   "codemirror_mode": {
    "name": "ipython",
    "version": 3
   },
   "file_extension": ".py",
   "mimetype": "text/x-python",
   "name": "python",
   "nbconvert_exporter": "python",
   "pygments_lexer": "ipython3",
   "version": "3.10.7"
  }
 },
 "nbformat": 4,
 "nbformat_minor": 5
}
